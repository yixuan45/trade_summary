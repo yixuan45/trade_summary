{
 "cells": [
  {
   "metadata": {},
   "cell_type": "raw",
   "source": "",
   "id": "d01dc33d2506ab35"
  },
  {
   "metadata": {},
   "cell_type": "markdown",
   "source": "# Import",
   "id": "b65da2d7f2531a4f"
  },
  {
   "cell_type": "code",
   "id": "initial_id",
   "metadata": {
    "collapsed": true,
    "ExecuteTime": {
     "end_time": "2025-08-28T06:50:24.078261Z",
     "start_time": "2025-08-28T06:50:23.169208Z"
    }
   },
   "source": [
    "import json\n",
    "import os\n",
    "import pandas as pd\n",
    "from basic.slave.slave import *\n",
    "from tqdm import tqdm"
   ],
   "outputs": [],
   "execution_count": 1
  },
  {
   "metadata": {},
   "cell_type": "markdown",
   "source": "# Parameters",
   "id": "506d8d8655947840"
  },
  {
   "metadata": {
    "ExecuteTime": {
     "end_time": "2025-08-28T06:50:24.267687Z",
     "start_time": "2025-08-28T06:50:24.252733Z"
    }
   },
   "cell_type": "code",
   "source": [
    "config_info = {\n",
    "    \"index\": {\n",
    "        \"irank\": {\n",
    "            \"mean_long\": 14,\n",
    "            \"mean_short\": 9,\n",
    "            \"c_base_long\": 5,\n",
    "            \"v_base_long\": 5,\n",
    "            \"ad_base_long\": 5,\n",
    "            \"obv_base_long\": 5\n",
    "            # \"unused_symbols\": ['BTCUSDT', 'ETHUSDT', 'SOLUSDT', 'XRPUSDT', 'DOGEUSDT']\n",
    "        }\n",
    "    },\n",
    "    \"main\": {\n",
    "        \"loss_p\": -0.03,\n",
    "        \"profit_p\": 0.05,\n",
    "        \"_alarm\": {\n",
    "            \"clear\": ['12:00'],\n",
    "            \"orders\": ['23:00']\n",
    "        },\n",
    "        \"_timer\": {\n",
    "            \"orders\": 60,\n",
    "            \"positions\": 1\n",
    "        },\n",
    "    },\n",
    "    \"trade\": {\n",
    "        \"amountusd\": 10000,\n",
    "        \"apikey\": \"xxxxx\",\n",
    "        \"apisets\": {\n",
    "            \"bbo\": \"QUEUE\",\n",
    "            \"count_cancel\": 5,\n",
    "            \"iceberg\": 10000,\n",
    "            \"offer_step\": 1,\n",
    "            \"retry\": 1,\n",
    "            \"timeInForce\": \"GTC\"\n",
    "        },\n",
    "        \"hold_time\": 240,\n",
    "        \"leverage\": 2,\n",
    "        \"orders_type\": \"BBO\",\n",
    "        \"position_type\": \"BBO\",\n",
    "        \"stop_iceberg\": 10000,\n",
    "        \"stop_interval\": 0.1,\n",
    "    }\n",
    "}"
   ],
   "id": "5c72433ced359073",
   "outputs": [],
   "execution_count": 2
  },
  {
   "metadata": {},
   "cell_type": "markdown",
   "source": "# Read",
   "id": "9548ec298cbb4e8f"
  },
  {
   "metadata": {
    "ExecuteTime": {
     "end_time": "2025-08-28T06:50:24.298581Z",
     "start_time": "2025-08-28T06:50:24.284618Z"
    }
   },
   "cell_type": "code",
   "source": [
    "def get_raw_data(path):\n",
    "    base_url = path['filepath']\n",
    "    path1 = f\"/{path['symbol']}/{path['interval']}\"\n",
    "    url = base_url + path1\n",
    "    filelist = os.listdir(url)\n",
    "    filelist.sort()\n",
    "    filelist_get = [item for item in filelist if\n",
    "                    path['start_date'] <= item[len(path['symbol']) + 4:len(path['symbol']) + 14] <= path[\n",
    "                        'end_date']]\n",
    "    df = pd.DataFrame()\n",
    "    for file in tqdm(filelist_get):\n",
    "        df0 = pd.read_csv(fr'{url}/{file}')\n",
    "        df = pd.concat([df, df0])\n",
    "    return df.copy()"
   ],
   "id": "d6c7b95c5e220f1e",
   "outputs": [],
   "execution_count": 3
  },
  {
   "metadata": {
    "ExecuteTime": {
     "end_time": "2025-08-28T06:50:31.840079Z",
     "start_time": "2025-08-28T06:50:24.348449Z"
    }
   },
   "cell_type": "code",
   "source": [
    "path_params = {\n",
    "    'filepath': 'Z:\\\\um\\daily\\klines',\n",
    "    'symbol': 'ETHUSDT',\n",
    "    'start_date': '2025-02-01',\n",
    "    'end_date': '2025-08-23',\n",
    "    'interval': '1m',\n",
    "}\n",
    "df = get_raw_data(path_params)\n",
    "df_klines = df[['open_time', 'open', 'high', 'low', 'close', 'volume']].copy()\n",
    "df_klines.columns = ['t', 'o', 'h', 'l', 'c', 'v']\n",
    "df_klines['t'] = df_klines['t'] + 60000\n",
    "df_klines.set_index('t', inplace=True)"
   ],
   "id": "6efa8c15e7281077",
   "outputs": [
    {
     "name": "stderr",
     "output_type": "stream",
     "text": [
      "100%|██████████| 204/204 [00:07<00:00, 28.17it/s]\n"
     ]
    }
   ],
   "execution_count": 4
  },
  {
   "metadata": {},
   "cell_type": "markdown",
   "source": "# index",
   "id": "1ef78d342d461688"
  },
  {
   "metadata": {
    "ExecuteTime": {
     "end_time": "2025-08-28T06:50:31.902599Z",
     "start_time": "2025-08-28T06:50:31.873372Z"
    }
   },
   "cell_type": "code",
   "source": [
    "class IRANK():\n",
    "\n",
    "    def __init__(self, paras, algoid):\n",
    "        self.paras = paras\n",
    "        self.algoid = algoid\n",
    "        self.ad_now = 0\n",
    "        self.df_klines = None\n",
    "        # self.pre_time = 0\n",
    "        self.calculate()\n",
    "\n",
    "    def update(self, idx):\n",
    "        target_prod = []\n",
    "        if self.df_klines[f'c_ma{self.paras[\"mean_long\"]}'].loc[idx] < self.df_klines['c'].loc[idx] < self.df_klines[\n",
    "                                                                                                          'c'].loc[\n",
    "                                                                                                      idx - self.paras[\n",
    "                                                                                                          'c_base_long'] * 60000:idx].min() and \\\n",
    "                self.df_klines[f'c_ma{self.paras[\"mean_short\"]}'].loc[idx] > \\\n",
    "                self.df_klines[f'c_ma{self.paras[\"mean_long\"]}'].loc[idx] and \\\n",
    "                self.df_klines['ad'].loc[idx] > self.df_klines['ad'].loc[\n",
    "                                                idx - self.paras['ad_base_long'] * 60000:idx].min() and \\\n",
    "                self.df_klines['v'].loc[idx] > self.df_klines['v'].loc[\n",
    "                                               idx - self.paras['v_base_long'] * 60000:idx].mean():\n",
    "            target_prod.append({'symbol': 'c', 'side': 'SELL'})\n",
    "\n",
    "        elif self.df_klines[f'c_ma{self.paras[\"mean_long\"]}'].loc[idx] > self.df_klines['c'].loc[idx] > self.df_klines[\n",
    "                                                                                                            'c'].loc[\n",
    "                                                                                                        idx -\n",
    "                                                                                                        self.paras[\n",
    "                                                                                                            'c_base_long'] * 60000:idx].min() and \\\n",
    "                self.df_klines[f'c_ma{self.paras[\"mean_short\"]}'].loc[idx] < \\\n",
    "                self.df_klines[f'c_ma{self.paras[\"mean_long\"]}'].loc[idx] and \\\n",
    "                self.df_klines['ad'].loc[idx] < self.df_klines['ad'].loc[\n",
    "                                                idx - self.paras['ad_base_long'] * 60000:idx].max() and \\\n",
    "                self.df_klines['v'].loc[idx] > self.df_klines['v'].loc[\n",
    "                                               idx - self.paras['v_base_long'] * 60000:idx].mean():\n",
    "            target_prod.append({'symbol': 'c', 'side': 'BUY'})\n",
    "        return target_prod\n",
    "\n",
    "    def calculate(self):\n",
    "        global df_klines\n",
    "        df_klines['MoneyFlowVolume'] = (2 * df_klines['c'] - df_klines['l'] - df_klines['h']) / (\n",
    "                df_klines['h'] - df_klines['l']) * df_klines['v']\n",
    "        df_klines['ad'] = df_klines['MoneyFlowVolume'].cumsum()  # 计算累计派发线\n",
    "        df_klines['obv'] = ((df_klines['c'] - df_klines['o']) * df_klines['v']).cumsum()  # 计算成交量的累计叠加\n",
    "        df_klines[f'c_ma{self.paras[\"mean_long\"]}'] = df_klines['c'].rolling(self.paras['mean_long']).mean()  # 长周期\n",
    "        df_klines[f'c_ma{self.paras[\"mean_short\"]}'] = df_klines['c'].rolling(self.paras['mean_short']).mean()  # 短周期\n",
    "        df_klines = df_klines.dropna()\n",
    "        self.df_klines = df_klines\n"
   ],
   "id": "8cdd1481a5bd2993",
   "outputs": [],
   "execution_count": 5
  },
  {
   "metadata": {
    "ExecuteTime": {
     "end_time": "2025-08-28T06:50:31.997018Z",
     "start_time": "2025-08-28T06:50:31.935616Z"
    }
   },
   "cell_type": "code",
   "source": "irank = IRANK(config_info['index']['irank'], algoid='rank0')",
   "id": "b04f9c93233c3bb1",
   "outputs": [],
   "execution_count": 6
  },
  {
   "metadata": {
    "ExecuteTime": {
     "end_time": "2025-08-28T06:50:32.043638Z",
     "start_time": "2025-08-28T06:50:32.013695Z"
    }
   },
   "cell_type": "code",
   "source": "irank.df_klines",
   "id": "815946e744c8e0e4",
   "outputs": [
    {
     "data": {
      "text/plain": [
       "                     o        h        l        c          v  MoneyFlowVolume  \\\n",
       "t                                                                               \n",
       "1738368840000  3298.24  3303.68  3298.00  3303.06    951.854       744.054887   \n",
       "1738368900000  3303.06  3305.02  3302.44  3303.62   1657.820      -141.364496   \n",
       "1738368960000  3303.61  3312.16  3303.61  3309.87  15031.895      6979.722006   \n",
       "1738369020000  3309.91  3310.63  3305.36  3305.37   1348.832     -1343.713093   \n",
       "1738369080000  3305.36  3307.69  3300.09  3302.37   1609.067      -643.626800   \n",
       "...                ...      ...      ...      ...        ...              ...   \n",
       "1755993360000  4774.12  4775.80  4774.12  4775.37    980.004       478.335286   \n",
       "1755993420000  4775.36  4777.00  4775.36  4775.41    820.597      -770.560598   \n",
       "1755993480000  4775.41  4775.41  4775.00  4775.00    450.097      -450.097000   \n",
       "1755993540000  4775.00  4778.10  4775.00  4777.10   1659.508       588.857677   \n",
       "1755993600000  4777.10  4777.88  4777.10  4777.26    565.110      -333.270000   \n",
       "\n",
       "                         ad           obv       c_ma14        c_ma9  \n",
       "t                                                                    \n",
       "1738368840000  2.343130e+03  2.282662e+04  3296.651429  3299.180000  \n",
       "1738368900000  2.201766e+03  2.375500e+04  3297.197143  3300.491111  \n",
       "1738368960000  9.181488e+03  1.178547e+05  3298.331429  3301.724444  \n",
       "1738369020000  7.837775e+03  1.117310e+05  3299.382857  3302.504444  \n",
       "1738369080000  7.194148e+03  1.069199e+05  3300.431429  3302.951111  \n",
       "...                     ...           ...          ...          ...  \n",
       "1755993360000  1.209247e+07 -1.670917e+08  4772.917857  4772.367778  \n",
       "1755993420000  1.209170e+07 -1.670916e+08  4773.190714  4772.773333  \n",
       "1755993480000  1.209125e+07 -1.670918e+08  4773.245000  4773.391111  \n",
       "1755993540000  1.209184e+07 -1.670883e+08  4773.482857  4774.065556  \n",
       "1755993600000  1.209150e+07 -1.670882e+08  4773.644286  4774.651111  \n",
       "\n",
       "[293747 rows x 10 columns]"
      ],
      "text/html": [
       "<div>\n",
       "<style scoped>\n",
       "    .dataframe tbody tr th:only-of-type {\n",
       "        vertical-align: middle;\n",
       "    }\n",
       "\n",
       "    .dataframe tbody tr th {\n",
       "        vertical-align: top;\n",
       "    }\n",
       "\n",
       "    .dataframe thead th {\n",
       "        text-align: right;\n",
       "    }\n",
       "</style>\n",
       "<table border=\"1\" class=\"dataframe\">\n",
       "  <thead>\n",
       "    <tr style=\"text-align: right;\">\n",
       "      <th></th>\n",
       "      <th>o</th>\n",
       "      <th>h</th>\n",
       "      <th>l</th>\n",
       "      <th>c</th>\n",
       "      <th>v</th>\n",
       "      <th>MoneyFlowVolume</th>\n",
       "      <th>ad</th>\n",
       "      <th>obv</th>\n",
       "      <th>c_ma14</th>\n",
       "      <th>c_ma9</th>\n",
       "    </tr>\n",
       "    <tr>\n",
       "      <th>t</th>\n",
       "      <th></th>\n",
       "      <th></th>\n",
       "      <th></th>\n",
       "      <th></th>\n",
       "      <th></th>\n",
       "      <th></th>\n",
       "      <th></th>\n",
       "      <th></th>\n",
       "      <th></th>\n",
       "      <th></th>\n",
       "    </tr>\n",
       "  </thead>\n",
       "  <tbody>\n",
       "    <tr>\n",
       "      <th>1738368840000</th>\n",
       "      <td>3298.24</td>\n",
       "      <td>3303.68</td>\n",
       "      <td>3298.00</td>\n",
       "      <td>3303.06</td>\n",
       "      <td>951.854</td>\n",
       "      <td>744.054887</td>\n",
       "      <td>2.343130e+03</td>\n",
       "      <td>2.282662e+04</td>\n",
       "      <td>3296.651429</td>\n",
       "      <td>3299.180000</td>\n",
       "    </tr>\n",
       "    <tr>\n",
       "      <th>1738368900000</th>\n",
       "      <td>3303.06</td>\n",
       "      <td>3305.02</td>\n",
       "      <td>3302.44</td>\n",
       "      <td>3303.62</td>\n",
       "      <td>1657.820</td>\n",
       "      <td>-141.364496</td>\n",
       "      <td>2.201766e+03</td>\n",
       "      <td>2.375500e+04</td>\n",
       "      <td>3297.197143</td>\n",
       "      <td>3300.491111</td>\n",
       "    </tr>\n",
       "    <tr>\n",
       "      <th>1738368960000</th>\n",
       "      <td>3303.61</td>\n",
       "      <td>3312.16</td>\n",
       "      <td>3303.61</td>\n",
       "      <td>3309.87</td>\n",
       "      <td>15031.895</td>\n",
       "      <td>6979.722006</td>\n",
       "      <td>9.181488e+03</td>\n",
       "      <td>1.178547e+05</td>\n",
       "      <td>3298.331429</td>\n",
       "      <td>3301.724444</td>\n",
       "    </tr>\n",
       "    <tr>\n",
       "      <th>1738369020000</th>\n",
       "      <td>3309.91</td>\n",
       "      <td>3310.63</td>\n",
       "      <td>3305.36</td>\n",
       "      <td>3305.37</td>\n",
       "      <td>1348.832</td>\n",
       "      <td>-1343.713093</td>\n",
       "      <td>7.837775e+03</td>\n",
       "      <td>1.117310e+05</td>\n",
       "      <td>3299.382857</td>\n",
       "      <td>3302.504444</td>\n",
       "    </tr>\n",
       "    <tr>\n",
       "      <th>1738369080000</th>\n",
       "      <td>3305.36</td>\n",
       "      <td>3307.69</td>\n",
       "      <td>3300.09</td>\n",
       "      <td>3302.37</td>\n",
       "      <td>1609.067</td>\n",
       "      <td>-643.626800</td>\n",
       "      <td>7.194148e+03</td>\n",
       "      <td>1.069199e+05</td>\n",
       "      <td>3300.431429</td>\n",
       "      <td>3302.951111</td>\n",
       "    </tr>\n",
       "    <tr>\n",
       "      <th>...</th>\n",
       "      <td>...</td>\n",
       "      <td>...</td>\n",
       "      <td>...</td>\n",
       "      <td>...</td>\n",
       "      <td>...</td>\n",
       "      <td>...</td>\n",
       "      <td>...</td>\n",
       "      <td>...</td>\n",
       "      <td>...</td>\n",
       "      <td>...</td>\n",
       "    </tr>\n",
       "    <tr>\n",
       "      <th>1755993360000</th>\n",
       "      <td>4774.12</td>\n",
       "      <td>4775.80</td>\n",
       "      <td>4774.12</td>\n",
       "      <td>4775.37</td>\n",
       "      <td>980.004</td>\n",
       "      <td>478.335286</td>\n",
       "      <td>1.209247e+07</td>\n",
       "      <td>-1.670917e+08</td>\n",
       "      <td>4772.917857</td>\n",
       "      <td>4772.367778</td>\n",
       "    </tr>\n",
       "    <tr>\n",
       "      <th>1755993420000</th>\n",
       "      <td>4775.36</td>\n",
       "      <td>4777.00</td>\n",
       "      <td>4775.36</td>\n",
       "      <td>4775.41</td>\n",
       "      <td>820.597</td>\n",
       "      <td>-770.560598</td>\n",
       "      <td>1.209170e+07</td>\n",
       "      <td>-1.670916e+08</td>\n",
       "      <td>4773.190714</td>\n",
       "      <td>4772.773333</td>\n",
       "    </tr>\n",
       "    <tr>\n",
       "      <th>1755993480000</th>\n",
       "      <td>4775.41</td>\n",
       "      <td>4775.41</td>\n",
       "      <td>4775.00</td>\n",
       "      <td>4775.00</td>\n",
       "      <td>450.097</td>\n",
       "      <td>-450.097000</td>\n",
       "      <td>1.209125e+07</td>\n",
       "      <td>-1.670918e+08</td>\n",
       "      <td>4773.245000</td>\n",
       "      <td>4773.391111</td>\n",
       "    </tr>\n",
       "    <tr>\n",
       "      <th>1755993540000</th>\n",
       "      <td>4775.00</td>\n",
       "      <td>4778.10</td>\n",
       "      <td>4775.00</td>\n",
       "      <td>4777.10</td>\n",
       "      <td>1659.508</td>\n",
       "      <td>588.857677</td>\n",
       "      <td>1.209184e+07</td>\n",
       "      <td>-1.670883e+08</td>\n",
       "      <td>4773.482857</td>\n",
       "      <td>4774.065556</td>\n",
       "    </tr>\n",
       "    <tr>\n",
       "      <th>1755993600000</th>\n",
       "      <td>4777.10</td>\n",
       "      <td>4777.88</td>\n",
       "      <td>4777.10</td>\n",
       "      <td>4777.26</td>\n",
       "      <td>565.110</td>\n",
       "      <td>-333.270000</td>\n",
       "      <td>1.209150e+07</td>\n",
       "      <td>-1.670882e+08</td>\n",
       "      <td>4773.644286</td>\n",
       "      <td>4774.651111</td>\n",
       "    </tr>\n",
       "  </tbody>\n",
       "</table>\n",
       "<p>293747 rows × 10 columns</p>\n",
       "</div>"
      ]
     },
     "execution_count": 7,
     "metadata": {},
     "output_type": "execute_result"
    }
   ],
   "execution_count": 7
  },
  {
   "metadata": {},
   "cell_type": "markdown",
   "source": "# Algo",
   "id": "9f26de60e95e31d7"
  },
  {
   "metadata": {
    "ExecuteTime": {
     "end_time": "2025-08-28T06:50:32.122405Z",
     "start_time": "2025-08-28T06:50:32.108442Z"
    }
   },
   "cell_type": "code",
   "source": [
    "class MAIN(SLAVE):\n",
    "\n",
    "    def __init__(self):\n",
    "        algoid, config, client, index = None, config_info, None, None\n",
    "        self.config = config['main']\n",
    "        self.irank = irank\n",
    "        super().__init__(client=client, paras=config['trade'], algoid=algoid)\n",
    "\n",
    "    def x_orders(self):\n",
    "        # global lock\n",
    "        target_prod = self.irank.update(HELPER.last_ticker_time())\n",
    "        if len(target_prod) == 0 or self.infos['total_positions'] != 0:\n",
    "            return\n",
    "        # lock = True\n",
    "        self.slave_orders(target_prod)\n",
    "\n",
    "    def x_positions(self):\n",
    "        # global lock\n",
    "\n",
    "        if self.infos['total_abs_positions'] == 0:\n",
    "            return 1\n",
    "        action_info = {}\n",
    "        for groupid in self.infos['groups']:\n",
    "            the_trade = self.infos['trades'][(groupid, list(self.infos['groups'][groupid])[0])]\n",
    "            if self.infos['profits'][groupid] < self.config['loss_p'] * self.infos['abs_originals'][groupid]:\n",
    "                action_info[groupid] = 'stop'\n",
    "            elif self.infos['profits'][groupid] > self.config['profit_p'] * self.infos['abs_originals'][groupid]:\n",
    "                action_info[groupid] = 'take_profit'\n",
    "\n",
    "            # elif self.infos['positions'][groupid] > 0 and df3['qv'].loc[HELPER.last_ticker_time()] < self.config[\n",
    "            #     'qv_thre']:\n",
    "            #     action_info[groupid] = 'take_profit'\n",
    "            # #     # with open(\"trades\", \"a\") as f:\n",
    "            # #     #     f.write(\"buy_take_profit\" + '\\n')\n",
    "            # #     #     f.write(f\"now_idx:{HELPER.last_ticker_time()}\")\n",
    "            # #     #     f.write(\"\\n\")\n",
    "            # #     #     f.write(f\"{self.infos['trades']}\")\n",
    "            # #     #     f.write(\"\\n\")\n",
    "            # #\n",
    "            # elif self.infos['positions'][groupid] < 0 and df3['qv'].loc[HELPER.last_ticker_time()] < self.config[\n",
    "            #     'qv_thre']:\n",
    "            #     action_info[groupid] = 'take_profit'\n",
    "            # #     # with open(\"trades\", \"a\") as f:\n",
    "            # #     #     f.write(\"sell_take_profit\" + '\\n')\n",
    "            # #     #     f.write(f\"now_idx:{HELPER.last_ticker_time()}\")\n",
    "            # #     #     f.write(\"\\n\")\n",
    "            # #     #     f.write(f\"{self.infos['trades']}\")\n",
    "            # #     #     f.write(\"\\n\")\n",
    "\n",
    "        if not action_info:\n",
    "            return 0\n",
    "        # lock = False\n",
    "        self.slave_positions(action_info)\n",
    "        return 0\n",
    "\n",
    "    def x_clear(self):\n",
    "        self.base_clear()"
   ],
   "id": "f0dc2dfd980d0c61",
   "outputs": [],
   "execution_count": 8
  },
  {
   "metadata": {
    "ExecuteTime": {
     "end_time": "2025-08-28T06:50:32.217306Z",
     "start_time": "2025-08-28T06:50:32.202345Z"
    }
   },
   "cell_type": "code",
   "source": "main = MAIN()",
   "id": "c0314d2ba384b8ed",
   "outputs": [],
   "execution_count": 9
  },
  {
   "metadata": {
    "ExecuteTime": {
     "end_time": "2025-08-28T06:50:32.532630Z",
     "start_time": "2025-08-28T06:50:32.518635Z"
    }
   },
   "cell_type": "code",
   "source": [
    "\n",
    "def job(day):\n",
    "    result = []\n",
    "\n",
    "    for idx in tqdm(day):\n",
    "        HELPER.update(idx, df_klines)\n",
    "        main.base_infos()\n",
    "        if main.x_positions():\n",
    "\n",
    "            result_cur = HELPER.profit(infos=main.infos, method='group')\n",
    "\n",
    "            if result_cur is not None:\n",
    "                result += result_cur\n",
    "                main.x_clear()\n",
    "\n",
    "        main.base_infos()\n",
    "        main.x_orders()\n",
    "\n",
    "    main.base_infos()\n",
    "    return result"
   ],
   "id": "edb8e216228044ea",
   "outputs": [],
   "execution_count": 10
  },
  {
   "metadata": {
    "ExecuteTime": {
     "end_time": "2025-08-28T06:52:13.233731Z",
     "start_time": "2025-08-28T06:50:32.567506Z"
    }
   },
   "cell_type": "code",
   "source": [
    "result = HELPER.driver(df=df_klines, job=job, n_jobs=1, clear=config_info['main']['_alarm']['clear'][0],\n",
    "                       start='2025-01-01', end='2025-08-24')"
   ],
   "id": "fef9ade4ba2931a6",
   "outputs": [
    {
     "name": "stderr",
     "output_type": "stream",
     "text": [
      "100%|██████████| 293747/293747 [01:40<00:00, 2924.35it/s]\n"
     ]
    }
   ],
   "execution_count": 11
  },
  {
   "metadata": {
    "ExecuteTime": {
     "end_time": "2025-08-28T06:52:13.344797Z",
     "start_time": "2025-08-28T06:52:13.323851Z"
    }
   },
   "cell_type": "code",
   "source": [
    "result_df = pd.DataFrame(result)\n",
    "result_df"
   ],
   "id": "4929dd95c74c1274",
   "outputs": [
    {
     "data": {
      "text/plain": [
       "                 0      1\n",
       "0    1738374420000 -299.0\n",
       "1    1738407120000 -299.0\n",
       "2    1738449000000 -310.0\n",
       "3    1738514760000 -316.0\n",
       "4    1738522440000 -422.0\n",
       "..             ...    ...\n",
       "197  1755632340000  501.0\n",
       "198  1755724020000 -300.0\n",
       "199  1755795780000  519.0\n",
       "200  1755874740000  503.0\n",
       "201  1755893400000 -308.0\n",
       "\n",
       "[202 rows x 2 columns]"
      ],
      "text/html": [
       "<div>\n",
       "<style scoped>\n",
       "    .dataframe tbody tr th:only-of-type {\n",
       "        vertical-align: middle;\n",
       "    }\n",
       "\n",
       "    .dataframe tbody tr th {\n",
       "        vertical-align: top;\n",
       "    }\n",
       "\n",
       "    .dataframe thead th {\n",
       "        text-align: right;\n",
       "    }\n",
       "</style>\n",
       "<table border=\"1\" class=\"dataframe\">\n",
       "  <thead>\n",
       "    <tr style=\"text-align: right;\">\n",
       "      <th></th>\n",
       "      <th>0</th>\n",
       "      <th>1</th>\n",
       "    </tr>\n",
       "  </thead>\n",
       "  <tbody>\n",
       "    <tr>\n",
       "      <th>0</th>\n",
       "      <td>1738374420000</td>\n",
       "      <td>-299.0</td>\n",
       "    </tr>\n",
       "    <tr>\n",
       "      <th>1</th>\n",
       "      <td>1738407120000</td>\n",
       "      <td>-299.0</td>\n",
       "    </tr>\n",
       "    <tr>\n",
       "      <th>2</th>\n",
       "      <td>1738449000000</td>\n",
       "      <td>-310.0</td>\n",
       "    </tr>\n",
       "    <tr>\n",
       "      <th>3</th>\n",
       "      <td>1738514760000</td>\n",
       "      <td>-316.0</td>\n",
       "    </tr>\n",
       "    <tr>\n",
       "      <th>4</th>\n",
       "      <td>1738522440000</td>\n",
       "      <td>-422.0</td>\n",
       "    </tr>\n",
       "    <tr>\n",
       "      <th>...</th>\n",
       "      <td>...</td>\n",
       "      <td>...</td>\n",
       "    </tr>\n",
       "    <tr>\n",
       "      <th>197</th>\n",
       "      <td>1755632340000</td>\n",
       "      <td>501.0</td>\n",
       "    </tr>\n",
       "    <tr>\n",
       "      <th>198</th>\n",
       "      <td>1755724020000</td>\n",
       "      <td>-300.0</td>\n",
       "    </tr>\n",
       "    <tr>\n",
       "      <th>199</th>\n",
       "      <td>1755795780000</td>\n",
       "      <td>519.0</td>\n",
       "    </tr>\n",
       "    <tr>\n",
       "      <th>200</th>\n",
       "      <td>1755874740000</td>\n",
       "      <td>503.0</td>\n",
       "    </tr>\n",
       "    <tr>\n",
       "      <th>201</th>\n",
       "      <td>1755893400000</td>\n",
       "      <td>-308.0</td>\n",
       "    </tr>\n",
       "  </tbody>\n",
       "</table>\n",
       "<p>202 rows × 2 columns</p>\n",
       "</div>"
      ]
     },
     "execution_count": 12,
     "metadata": {},
     "output_type": "execute_result"
    }
   ],
   "execution_count": 12
  },
  {
   "metadata": {
    "ExecuteTime": {
     "end_time": "2025-08-28T06:52:13.800719Z",
     "start_time": "2025-08-28T06:52:13.520360Z"
    }
   },
   "cell_type": "code",
   "source": "fig, axes, arr = PLOT.profit(result=result, amountusd=config_info['trade']['amountusd'], freq='D')",
   "id": "bc68b320670aa5ff",
   "outputs": [
    {
     "data": {
      "text/plain": [
       "<Figure size 640x480 with 2 Axes>"
      ],
      "image/png": "[encoded data removed]"
     },
     "metadata": {},
     "output_type": "display_data"
    }
   ],
   "execution_count": 13
  },
  {
   "metadata": {
    "ExecuteTime": {
     "end_time": "2025-08-28T06:52:13.907873Z",
     "start_time": "2025-08-28T06:52:13.893909Z"
    }
   },
   "cell_type": "code",
   "source": "",
   "id": "e951f9171cd4d68e",
   "outputs": [],
   "execution_count": null
  }
 ],
 "metadata": {
  "kernelspec": {
   "display_name": "Python 3",
   "language": "python",
   "name": "python3"
  },
  "language_info": {
   "codemirror_mode": {
    "name": "ipython",
    "version": 2
   },
   "file_extension": ".py",
   "mimetype": "text/x-python",
   "name": "python",
   "nbconvert_exporter": "python",
   "pygments_lexer": "ipython2",
   "version": "2.7.6"
  }
 },
 "nbformat": 4,
 "nbformat_minor": 5
}

{
 "cells": [
  {
   "metadata": {},
   "cell_type": "markdown",
   "source": "# import",
   "id": "39fe56d5db31a9b8"
  },
  {
   "cell_type": "code",
   "id": "initial_id",
   "metadata": {
    "collapsed": true,
    "ExecuteTime": {
     "end_time": "2025-08-29T06:07:04.637723Z",
     "start_time": "2025-08-29T06:07:03.443541Z"
    }
   },
   "source": [
    "import json\n",
    "import os\n",
    "import pandas as pd\n",
    "from basic.slave.slave import *\n",
    "from tqdm import tqdm"
   ],
   "outputs": [],
   "execution_count": 1
  },
  {
   "metadata": {},
   "cell_type": "markdown",
   "source": "# Parameters",
   "id": "99e4027b0a4e9678"
  },
  {
   "metadata": {
    "ExecuteTime": {
     "end_time": "2025-08-29T06:07:04.857818Z",
     "start_time": "2025-08-29T06:07:04.844590Z"
    }
   },
   "cell_type": "code",
   "source": [
    "config_info = {\n",
    "    \"index\": {\n",
    "        \"irank\": {\n",
    "            \"offset\": 0.85,\n",
    "            \"long_window\": 9,\n",
    "            \"short_window\": 6,\n",
    "            \"sigma\": 6,\n",
    "            \"v_window\": 6,\n",
    "            \"unused_symbols\": ['BTCUSDT', 'ETHUSDT', 'SOLUSDT', 'XRPUSDT', 'DOGEUSDT']\n",
    "        }\n",
    "    },\n",
    "    \"main\": {\n",
    "        \"loss_p\": -0.05,\n",
    "        \"profit_p\": 0.15,\n",
    "        \"qv_thre\": 1200E3,\n",
    "        \"regre\": 0.0001,  # 0.005\"\n",
    "        \"_alarm\": {\n",
    "            \"clear\": ['12:00'],\n",
    "            \"orders\": ['23:00']\n",
    "        },\n",
    "        \"_timer\": {\n",
    "            \"orders\": 60,\n",
    "            \"positions\": 1\n",
    "        },\n",
    "    },\n",
    "    \"trade\": {\n",
    "        \"amountusd\": 10000,\n",
    "        \"apikey\": \"xxxxx\",\n",
    "        \"apisets\": {\n",
    "            \"bbo\": \"QUEUE\",\n",
    "            \"count_cancel\": 5,\n",
    "            \"iceberg\": 10000,\n",
    "            \"offer_step\": 1,\n",
    "            \"retry\": 1,\n",
    "            \"timeInForce\": \"GTC\"\n",
    "        },\n",
    "        \"hold_time\": 240,\n",
    "        \"leverage\": 2,\n",
    "        \"orders_type\": \"BBO\",\n",
    "        \"position_type\": \"BBO\",\n",
    "        \"stop_iceberg\": 10000,\n",
    "        \"stop_interval\": 0.1,\n",
    "    }\n",
    "}"
   ],
   "id": "bac34b0bdb4f813b",
   "outputs": [],
   "execution_count": 2
  },
  {
   "metadata": {},
   "cell_type": "markdown",
   "source": "# Read",
   "id": "3ec1f967cf661012"
  },
  {
   "metadata": {
    "ExecuteTime": {
     "end_time": "2025-08-29T06:07:04.903796Z",
     "start_time": "2025-08-29T06:07:04.891531Z"
    }
   },
   "cell_type": "code",
   "source": [
    "def get_raw_data(path):\n",
    "    base_url = path['filepath']\n",
    "    path1 = f\"/{path['symbol']}/{path['interval']}\"\n",
    "    url = base_url + path1\n",
    "    filelist = os.listdir(url)\n",
    "    filelist.sort()\n",
    "    filelist_get = [item for item in filelist if\n",
    "                    path['start_date'] <= item[len(path['symbol']) + 4:len(path['symbol']) + 14] <= path[\n",
    "                        'end_date']]\n",
    "    df = pd.DataFrame()\n",
    "    for file in tqdm(filelist_get):\n",
    "        df0 = pd.read_csv(fr'{url}/{file}')\n",
    "        df = pd.concat([df, df0])\n",
    "    return df.copy()"
   ],
   "id": "546b59123d218edc",
   "outputs": [],
   "execution_count": 3
  },
  {
   "metadata": {
    "ExecuteTime": {
     "end_time": "2025-08-29T06:07:08.212017Z",
     "start_time": "2025-08-29T06:07:04.938797Z"
    }
   },
   "cell_type": "code",
   "source": [
    "path_params = {\n",
    "    'filepath': 'Z:\\\\um\\daily\\klines',\n",
    "    'symbol': 'ETHUSDT',\n",
    "    'start_date': '2025-05-01',\n",
    "    'end_date': '2025-08-23',\n",
    "    'interval': '1m',\n",
    "}\n",
    "df = get_raw_data(path_params)\n",
    "df_klines = df[['open_time', 'open', 'high', 'low', 'close', 'volume', 'quote_volume']].copy()\n",
    "df_klines.columns = ['t', 'o', 'h', 'l', 'c', 'v', 'qv']\n",
    "df_klines['t'] = df_klines['t'] + 60000\n",
    "df_klines.set_index('t', inplace=True)"
   ],
   "id": "64dbbb86774d4b78",
   "outputs": [
    {
     "name": "stderr",
     "output_type": "stream",
     "text": [
      "100%|██████████| 115/115 [00:03<00:00, 36.93it/s]\n"
     ]
    }
   ],
   "execution_count": 4
  },
  {
   "metadata": {},
   "cell_type": "markdown",
   "source": "# index",
   "id": "64b29c41088d96c4"
  },
  {
   "metadata": {
    "ExecuteTime": {
     "end_time": "2025-08-29T06:07:08.259218Z",
     "start_time": "2025-08-29T06:07:08.245475Z"
    }
   },
   "cell_type": "code",
   "source": [
    "class IRANK():\n",
    "\n",
    "    def __init__(self, paras, algoid):\n",
    "        self.paras = paras\n",
    "        self.algoid = algoid\n",
    "        self.df_klines = None\n",
    "        self.slip_time = 1\n",
    "        # self.pre_time = 0\n",
    "        self.calculate()\n",
    "\n",
    "    def update(self, idx):\n",
    "        target_prod = []\n",
    "        if self.slip_time == 1:\n",
    "            self.slip_time -= 1\n",
    "            return target_prod\n",
    "\n",
    "        if df_klines[f'alma_{self.paras[\"short_window\"]}'].loc[idx] > \\\n",
    "                df_klines[f'alma_{self.paras[\"long_window\"]}'].loc[idx] and  \\\n",
    "                df_klines[f'alma_{self.paras[\"short_window\"]}'].loc[idx - 60000] < \\\n",
    "                df_klines[f'alma_{self.paras[\"long_window\"]}'].loc[idx - 60000] and df_klines['price_volatility'].loc[\n",
    "            idx] > 0.5 and df_klines[\"rsi\"].loc[idx] < 30:\n",
    "            target_prod.append({'symbol': 'c', 'side': 'BUY'})\n",
    "\n",
    "        elif df_klines[f'alma_{self.paras[\"short_window\"]}'].loc[idx] < \\\n",
    "                df_klines[f'alma_{self.paras[\"long_window\"]}'].loc[idx] and \\\n",
    "                df_klines[f'alma_{self.paras[\"short_window\"]}'].loc[idx - 60000] > \\\n",
    "                df_klines[f'alma_{self.paras[\"long_window\"]}'].loc[idx - 60000] and df_klines['price_volatility'].loc[\n",
    "            idx] > 0.5 and df_klines[\"rsi\"].loc[idx] > 70:\n",
    "            target_prod.append({'symbol': 'c', 'side': 'SELL'})\n",
    "\n",
    "        return target_prod\n",
    "\n",
    "    def calculate(self):\n",
    "\n",
    "        def calculate_alma(df, window=9, sigma=6, offset=0.85):\n",
    "            m = int(offset * (window - 1))\n",
    "            s = window / sigma\n",
    "\n",
    "            # 计算权重\n",
    "            weights = np.exp(-(np.arange(window) - m) ** 2 / (2 * s ** 2))\n",
    "            weights /= np.sum(weights)\n",
    "\n",
    "            # 计算ALMA\n",
    "            alma = np.convolve(df['c'], weights, mode='valid')\n",
    "\n",
    "            # 前面补NaN，使长度与原数据一致\n",
    "            alma = np.concatenate([np.full(window - 1, np.nan), alma])\n",
    "\n",
    "            return alma\n",
    "\n",
    "        def calculate_rsi(df, window=14):\n",
    "            \"\"\"计算相对强弱指数(RSI)\"\"\"\n",
    "            delta = df['c'].diff()\n",
    "            gain = (delta.where(delta > 0, 0)).rolling(window=window).mean()\n",
    "            loss = (-delta.where(delta < 0, 0)).rolling(window=window).mean()\n",
    "\n",
    "            rs = gain / loss\n",
    "            rsi = 100 - (100 / (1 + rs))\n",
    "\n",
    "            return rsi\n",
    "\n",
    "        df_klines[f'alma_{self.paras[\"long_window\"]}'] = calculate_alma(df_klines, window=self.paras['long_window'])\n",
    "        df_klines[f'alma_{self.paras[\"short_window\"]}'] = calculate_alma(df_klines, window=self.paras['short_window'])\n",
    "        df_klines['rsi'] = calculate_rsi(df_klines)\n",
    "        df_klines['volume_mean'] = df_klines['v'].rolling(self.paras[\"v_window\"]).mean()\n",
    "        # 计算价格波动百分比（过滤窄幅波动）\n",
    "        df_klines['price_volatility'] = (df_klines['c'].pct_change().rolling(10).std() * 100)\n",
    "        self.df_klines = df_klines.dropna()"
   ],
   "id": "1021def510dce201",
   "outputs": [],
   "execution_count": 5
  },
  {
   "metadata": {
    "ExecuteTime": {
     "end_time": "2025-08-29T06:07:08.368720Z",
     "start_time": "2025-08-29T06:07:08.308134Z"
    }
   },
   "cell_type": "code",
   "source": "irank = IRANK(config_info['index']['irank'], algoid='rank0')",
   "id": "695735b22376e6c0",
   "outputs": [],
   "execution_count": 6
  },
  {
   "metadata": {},
   "cell_type": "markdown",
   "source": "# Algo",
   "id": "ee1d9ac98fd14a68"
  },
  {
   "metadata": {
    "ExecuteTime": {
     "end_time": "2025-08-29T06:07:08.414973Z",
     "start_time": "2025-08-29T06:07:08.401746Z"
    }
   },
   "cell_type": "code",
   "source": [
    "class MAIN(SLAVE):\n",
    "\n",
    "    def __init__(self):\n",
    "        algoid, config, client, index = None, config_info, None, None\n",
    "        self.config = config['main']\n",
    "        self.irank = irank\n",
    "        super().__init__(client=client, paras=config['trade'], algoid=algoid)\n",
    "\n",
    "    def x_orders(self):\n",
    "        # global lock\n",
    "        target_prod = self.irank.update(HELPER.last_ticker_time())\n",
    "        if len(target_prod) == 0 or self.infos['total_positions'] != 0:\n",
    "            return\n",
    "        # lock = True\n",
    "        self.slave_orders(target_prod)\n",
    "\n",
    "    def x_positions(self):\n",
    "        # global lock\n",
    "\n",
    "        if self.infos['total_abs_positions'] == 0:\n",
    "            return 1\n",
    "        action_info = {}\n",
    "        for groupid in self.infos['groups']:\n",
    "            the_trade = self.infos['trades'][(groupid, list(self.infos['groups'][groupid])[0])]\n",
    "            if self.infos['profits'][groupid] < self.config['loss_p'] * self.infos['abs_originals'][groupid]:\n",
    "                action_info[groupid] = 'stop'\n",
    "            elif self.infos['profits'][groupid] > self.config['profit_p'] * self.infos['abs_originals'][groupid]:\n",
    "                action_info[groupid] = 'take_profit'\n",
    "\n",
    "        if not action_info:\n",
    "            return 0\n",
    "        # lock = False\n",
    "        self.slave_positions(action_info)\n",
    "        return 0\n",
    "\n",
    "    def x_clear(self):\n",
    "        self.base_clear()"
   ],
   "id": "bbdeb4615c3218e2",
   "outputs": [],
   "execution_count": 7
  },
  {
   "metadata": {
    "ExecuteTime": {
     "end_time": "2025-08-29T06:07:08.476135Z",
     "start_time": "2025-08-29T06:07:08.463348Z"
    }
   },
   "cell_type": "code",
   "source": "main = MAIN()",
   "id": "9a258ac4e1d0c04e",
   "outputs": [],
   "execution_count": 8
  },
  {
   "metadata": {
    "ExecuteTime": {
     "end_time": "2025-08-29T06:07:08.539046Z",
     "start_time": "2025-08-29T06:07:08.525082Z"
    }
   },
   "cell_type": "code",
   "source": [
    "\n",
    "def job(day):\n",
    "    result = []\n",
    "\n",
    "    for idx in tqdm(day):\n",
    "        HELPER.update(idx, df_klines)\n",
    "        main.base_infos()\n",
    "        if main.x_positions():\n",
    "\n",
    "            result_cur = HELPER.profit(infos=main.infos, method='group')\n",
    "\n",
    "            if result_cur is not None:\n",
    "                result += result_cur\n",
    "                main.x_clear()\n",
    "\n",
    "        main.base_infos()\n",
    "        main.x_orders()\n",
    "\n",
    "    main.base_infos()\n",
    "    return result"
   ],
   "id": "584987fdbc6346f",
   "outputs": [],
   "execution_count": 9
  },
  {
   "metadata": {
    "ExecuteTime": {
     "end_time": "2025-08-29T06:07:50.551033Z",
     "start_time": "2025-08-29T06:07:08.587310Z"
    }
   },
   "cell_type": "code",
   "source": [
    "result = HELPER.driver(df=df_klines, job=job, n_jobs=1, clear=config_info['main']['_alarm']['clear'][0],\n",
    "                       start='2025-01-01', end='2025-08-24')"
   ],
   "id": "e08b9ecaadff392e",
   "outputs": [
    {
     "name": "stderr",
     "output_type": "stream",
     "text": [
      "100%|██████████| 165600/165600 [00:41<00:00, 3958.03it/s]\n"
     ]
    }
   ],
   "execution_count": 10
  },
  {
   "metadata": {
    "ExecuteTime": {
     "end_time": "2025-08-29T06:07:51.052392Z",
     "start_time": "2025-08-29T06:07:50.584202Z"
    }
   },
   "cell_type": "code",
   "source": "fig, axes, arr = PLOT.profit(result=result, amountusd=config_info['trade']['amountusd'], freq='D')",
   "id": "439e95ffbed80a08",
   "outputs": [
    {
     "data": {
      "text/plain": [
       "<Figure size 640x480 with 2 Axes>"
      ],
      "image/png": "[encoded data removed]"
     },
     "metadata": {},
     "output_type": "display_data"
    }
   ],
   "execution_count": 11
  }
 ],
 "metadata": {
  "kernelspec": {
   "display_name": "Python 3",
   "language": "python",
   "name": "python3"
  },
  "language_info": {
   "codemirror_mode": {
    "name": "ipython",
    "version": 2
   },
   "file_extension": ".py",
   "mimetype": "text/x-python",
   "name": "python",
   "nbconvert_exporter": "python",
   "pygments_lexer": "ipython2",
   "version": "2.7.6"
  }
 },
 "nbformat": 4,
 "nbformat_minor": 5
}
